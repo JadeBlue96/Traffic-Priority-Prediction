{
 "cells": [
  {
   "cell_type": "code",
   "execution_count": 1,
   "metadata": {},
   "outputs": [],
   "source": [
    "from pgmpy.models import BayesianModel\n",
    "from pgmpy.factors.discrete import TabularCPD"
   ]
  },
  {
   "cell_type": "markdown",
   "metadata": {},
   "source": [
    "### Model and CPDs"
   ]
  },
  {
   "cell_type": "markdown",
   "metadata": {},
   "source": [
    "<img src=\"Traffic Prioritisation BayesNet.png\" />"
   ]
  },
  {
   "cell_type": "markdown",
   "metadata": {},
   "source": [
    "### Generating the network"
   ]
  },
  {
   "cell_type": "code",
   "execution_count": 34,
   "metadata": {},
   "outputs": [],
   "source": [
    "def generate_network_and_cpds():\n",
    "    # Defining the model structure. We can define the network by just passing a list of edges.\n",
    "    model = BayesianModel([('W', 'P'), ('P', 'B'), ('P', 'N'), ('N', 'C'),\n",
    "                       ('B', 'C'), ('B', 'R'), ('C', 'S'), ('R', 'S'),\n",
    "                       ('SP', 'S')])\n",
    "    cpd_w_sn = TabularCPD(variable='W', variable_card=2, values=[[0.7], [0.3]], state_names={'W': ['Mon-Fri', 'Sat-Sun']})\n",
    "\n",
    "    cpd_p_sn = TabularCPD(variable='P', variable_card=4, \n",
    "                          values=[[0.125, 0],\n",
    "                                  [0.25, 0.5],\n",
    "                                  [0.125, 0],\n",
    "                                  [0.5, 0.5]],\n",
    "                          evidence=['W'],\n",
    "                          evidence_card=[2],\n",
    "                          state_names={'W': ['Mon-Fri', 'Sat-Sun'],\n",
    "                                       'P': ['P1(7-10AM)', 'P2(10AM-4PM)', 'P3(4PM-7PM)', 'P4(7PM-7AM)']})\n",
    "\n",
    "    cpd_n_sn = TabularCPD(variable='N', variable_card=2, \n",
    "                          values=[[0.9, 0.1, 0.9, 0.1],\n",
    "                                  [0.1, 0.9, 0.1, 0.9]],\n",
    "                          evidence=['P'],\n",
    "                          evidence_card=[4],\n",
    "                          state_names={'N': ['N0', 'N1'],\n",
    "                                       'P': ['P1(7-10AM)', 'P2(10AM-4PM)', 'P3(4PM-7PM)', 'P4(7PM-7AM)']})\n",
    "\n",
    "    cpd_b_sn = TabularCPD(variable='B', variable_card=2, \n",
    "                          values=[[1, 0, 1, 0],\n",
    "                                  [0, 1, 0, 1]],\n",
    "                          evidence=['P'],\n",
    "                          evidence_card=[4],\n",
    "                          state_names={'P': ['P1(7-10AM)', 'P2(10AM-4PM)', 'P3(4PM-7PM)', 'P4(7PM-7AM)'],\n",
    "                                       'B': ['Busy', 'Not Busy']})\n",
    "\n",
    "    cpd_c_sn = TabularCPD(variable='C', variable_card=2, \n",
    "                          values=[[0.05, 0.6, 0.4, 0.95],\n",
    "                                  [0.95, 0.4, 0.6, 0.05]],\n",
    "                          evidence=['N', 'B'],\n",
    "                          evidence_card=[2, 2],\n",
    "                          state_names={'C': ['Low', 'High'],\n",
    "                                       'N': ['N0', 'N1'],\n",
    "                                       'B': ['Busy', 'Not Busy']})\n",
    "\n",
    "    cpd_r_sn = TabularCPD(variable='R', variable_card=2, \n",
    "                          values=[[0.005, 0.015],\n",
    "                                  [0.995, 0.985]],\n",
    "                          evidence=['B'],\n",
    "                          evidence_card=[2],\n",
    "                          state_names={'R': ['Roadwork', 'No Roadwork'],\n",
    "                                       'B': ['Busy', 'Not Busy']})\n",
    "\n",
    "    cpd_sp_sn = TabularCPD(variable='SP', variable_card=5, \n",
    "                          values=[[0.65], [0.117], [0.117], [0.058], [0.058]],\n",
    "                          state_names={'SP': ['SP_E', 'SP_DCBA', 'SP_CBAD', 'SP_BADC', 'SP_ADCB']})\n",
    "\n",
    "    cpd_s_sn = TabularCPD(variable='S', variable_card=5, \n",
    "                          values=[[0.9, 0.9, 0.117, 0.75, 0.9, 0.9, 0.117, 0.75, 0.9, 0.9, 0.058, 0.75, 0.9, 0.9, 0.058, 0.75, 0.9, 0.9, 0.65, 0.75],\n",
    "                                  [0.025, 0.025, 0.65, 0.0625, 0.025, 0.025, 0.117, 0.0625, 0.025, 0.025, 0.117, 0.0625, 0.025, 0.025, 0.117, 0.0625, 0.025, 0.025, 0.117, 0.0625],\n",
    "                                 [0.025, 0.025, 0.117, 0.0625, 0.025, 0.025, 0.65, 0.0625, 0.025, 0.025, 0.117, 0.0625, 0.025, 0.025, 0.117, 0.0625, 0.025, 0.025, 0.117, 0.0625],\n",
    "                                 [0.025, 0.025, 0.058, 0.0625, 0.025, 0.025, 0.058, 0.0625, 0.025, 0.025, 0.65, 0.0625, 0.025, 0.025, 0.058, 0.0625, 0.025, 0.025, 0.058, 0.0625],\n",
    "                                 [0.025, 0.025, 0.058, 0.0625, 0.025, 0.025, 0.058, 0.0625, 0.025, 0.025, 0.058, 0.0625, 0.025, 0.025, 0.65, 0.0625, 0.025, 0.025, 0.058, 0.0625]],\n",
    "                          evidence=['SP', 'R', 'C'],\n",
    "                          evidence_card=[5, 2, 2],\n",
    "                          state_names={'S': ['SP_E', 'SP_DCBA', 'SP_CBAD', 'SP_BADC', 'SP_ADCB'],\n",
    "                              'SP': ['SP_E', 'SP_DCBA', 'SP_CBAD', 'SP_BADC', 'SP_ADCB'],\n",
    "                                       'R': ['Roadwork', 'No Roadwork'],\n",
    "                                       'C': ['Low', 'High']})\n",
    "\n",
    "    model.add_cpds(cpd_w_sn, cpd_p_sn, cpd_n_sn, cpd_b_sn, cpd_c_sn, cpd_r_sn, cpd_sp_sn, cpd_s_sn)\n",
    "    print('Model state: ', model.check_model())\n",
    "    if model.check_model() == True:\n",
    "        return model"
   ]
  },
  {
   "cell_type": "code",
   "execution_count": 35,
   "metadata": {},
   "outputs": [
    {
     "name": "stdout",
     "output_type": "stream",
     "text": [
      "Model state:  True\n"
     ]
    }
   ],
   "source": [
    "model = generate_network_and_cpds()"
   ]
  },
  {
   "cell_type": "markdown",
   "metadata": {},
   "source": [
    "### Showing the conditional tables"
   ]
  },
  {
   "cell_type": "code",
   "execution_count": 36,
   "metadata": {},
   "outputs": [],
   "source": [
    "def print_cpds(model):\n",
    "    print('Weekdays Table')\n",
    "    print(model.get_cpds('W'))\n",
    "    print('Periods Table')\n",
    "    print(model.get_cpds('P'))\n",
    "    print('Commutes Table')\n",
    "    print(model.get_cpds('N'))\n",
    "    print('Busy Table')\n",
    "    print(model.get_cpds('B'))\n",
    "    print('Congestion Table')\n",
    "    print(model.get_cpds('C'))\n",
    "    print('Roadworks Table')\n",
    "    print(model.get_cpds('R'))\n",
    "    print('Previous Sequence')\n",
    "    print(model.get_cpds('SP'))\n",
    "    print('Output Sequence')\n",
    "    print(model.get_cpds('S'))"
   ]
  },
  {
   "cell_type": "code",
   "execution_count": 37,
   "metadata": {},
   "outputs": [
    {
     "name": "stdout",
     "output_type": "stream",
     "text": [
      "Weekdays Table\n",
      "╒════════════╤═════╕\n",
      "│ W(Mon-Fri) │ 0.7 │\n",
      "├────────────┼─────┤\n",
      "│ W(Sat-Sun) │ 0.3 │\n",
      "╘════════════╧═════╛\n",
      "Periods Table\n",
      "╒═════════════════╤════════════╤════════════╕\n",
      "│ W               │ W(Mon-Fri) │ W(Sat-Sun) │\n",
      "├─────────────────┼────────────┼────────────┤\n",
      "│ P(P1(7-10AM))   │ 0.125      │ 0.0        │\n",
      "├─────────────────┼────────────┼────────────┤\n",
      "│ P(P2(10AM-4PM)) │ 0.25       │ 0.5        │\n",
      "├─────────────────┼────────────┼────────────┤\n",
      "│ P(P3(4PM-7PM))  │ 0.125      │ 0.0        │\n",
      "├─────────────────┼────────────┼────────────┤\n",
      "│ P(P4(7PM-7AM))  │ 0.5        │ 0.5        │\n",
      "╘═════════════════╧════════════╧════════════╛\n",
      "Commutes Table\n",
      "╒═══════╤═══════════════╤═════════════════╤════════════════╤════════════════╕\n",
      "│ P     │ P(P1(7-10AM)) │ P(P2(10AM-4PM)) │ P(P3(4PM-7PM)) │ P(P4(7PM-7AM)) │\n",
      "├───────┼───────────────┼─────────────────┼────────────────┼────────────────┤\n",
      "│ N(N0) │ 0.9           │ 0.1             │ 0.9            │ 0.1            │\n",
      "├───────┼───────────────┼─────────────────┼────────────────┼────────────────┤\n",
      "│ N(N1) │ 0.1           │ 0.9             │ 0.1            │ 0.9            │\n",
      "╘═══════╧═══════════════╧═════════════════╧════════════════╧════════════════╛\n",
      "Busy Table\n",
      "╒═════════════╤═══════════════╤═════════════════╤════════════════╤════════════════╕\n",
      "│ P           │ P(P1(7-10AM)) │ P(P2(10AM-4PM)) │ P(P3(4PM-7PM)) │ P(P4(7PM-7AM)) │\n",
      "├─────────────┼───────────────┼─────────────────┼────────────────┼────────────────┤\n",
      "│ B(Busy)     │ 1.0           │ 0.0             │ 1.0            │ 0.0            │\n",
      "├─────────────┼───────────────┼─────────────────┼────────────────┼────────────────┤\n",
      "│ B(Not Busy) │ 0.0           │ 1.0             │ 0.0            │ 1.0            │\n",
      "╘═════════════╧═══════════════╧═════════════════╧════════════════╧════════════════╛\n",
      "Congestion Table\n",
      "╒═════════╤═════════╤═════════════╤═════════╤═════════════╕\n",
      "│ N       │ N(N0)   │ N(N0)       │ N(N1)   │ N(N1)       │\n",
      "├─────────┼─────────┼─────────────┼─────────┼─────────────┤\n",
      "│ B       │ B(Busy) │ B(Not Busy) │ B(Busy) │ B(Not Busy) │\n",
      "├─────────┼─────────┼─────────────┼─────────┼─────────────┤\n",
      "│ C(Low)  │ 0.05    │ 0.6         │ 0.4     │ 0.95        │\n",
      "├─────────┼─────────┼─────────────┼─────────┼─────────────┤\n",
      "│ C(High) │ 0.95    │ 0.4         │ 0.6     │ 0.05        │\n",
      "╘═════════╧═════════╧═════════════╧═════════╧═════════════╛\n",
      "Roadworks Table\n",
      "╒════════════════╤═════════╤═════════════╕\n",
      "│ B              │ B(Busy) │ B(Not Busy) │\n",
      "├────────────────┼─────────┼─────────────┤\n",
      "│ R(Roadwork)    │ 0.005   │ 0.015       │\n",
      "├────────────────┼─────────┼─────────────┤\n",
      "│ R(No Roadwork) │ 0.995   │ 0.985       │\n",
      "╘════════════════╧═════════╧═════════════╛\n",
      "Previous Sequence\n",
      "╒═════════════╤═══════╕\n",
      "│ SP(SP_E)    │ 0.65  │\n",
      "├─────────────┼───────┤\n",
      "│ SP(SP_DCBA) │ 0.117 │\n",
      "├─────────────┼───────┤\n",
      "│ SP(SP_CBAD) │ 0.117 │\n",
      "├─────────────┼───────┤\n",
      "│ SP(SP_BADC) │ 0.058 │\n",
      "├─────────────┼───────┤\n",
      "│ SP(SP_ADCB) │ 0.058 │\n",
      "╘═════════════╧═══════╛\n",
      "Output Sequence\n",
      "╒════════════╤═════════════╤═════════════╤════════════════╤════════════════╤═════════════╤═════════════╤════════════════╤════════════════╤═════════════╤═════════════╤════════════════╤════════════════╤═════════════╤═════════════╤════════════════╤════════════════╤═════════════╤═════════════╤════════════════╤════════════════╕\n",
      "│ SP         │ SP(SP_E)    │ SP(SP_E)    │ SP(SP_E)       │ SP(SP_E)       │ SP(SP_DCBA) │ SP(SP_DCBA) │ SP(SP_DCBA)    │ SP(SP_DCBA)    │ SP(SP_CBAD) │ SP(SP_CBAD) │ SP(SP_CBAD)    │ SP(SP_CBAD)    │ SP(SP_BADC) │ SP(SP_BADC) │ SP(SP_BADC)    │ SP(SP_BADC)    │ SP(SP_ADCB) │ SP(SP_ADCB) │ SP(SP_ADCB)    │ SP(SP_ADCB)    │\n",
      "├────────────┼─────────────┼─────────────┼────────────────┼────────────────┼─────────────┼─────────────┼────────────────┼────────────────┼─────────────┼─────────────┼────────────────┼────────────────┼─────────────┼─────────────┼────────────────┼────────────────┼─────────────┼─────────────┼────────────────┼────────────────┤\n",
      "│ R          │ R(Roadwork) │ R(Roadwork) │ R(No Roadwork) │ R(No Roadwork) │ R(Roadwork) │ R(Roadwork) │ R(No Roadwork) │ R(No Roadwork) │ R(Roadwork) │ R(Roadwork) │ R(No Roadwork) │ R(No Roadwork) │ R(Roadwork) │ R(Roadwork) │ R(No Roadwork) │ R(No Roadwork) │ R(Roadwork) │ R(Roadwork) │ R(No Roadwork) │ R(No Roadwork) │\n",
      "├────────────┼─────────────┼─────────────┼────────────────┼────────────────┼─────────────┼─────────────┼────────────────┼────────────────┼─────────────┼─────────────┼────────────────┼────────────────┼─────────────┼─────────────┼────────────────┼────────────────┼─────────────┼─────────────┼────────────────┼────────────────┤\n",
      "│ C          │ C(Low)      │ C(High)     │ C(Low)         │ C(High)        │ C(Low)      │ C(High)     │ C(Low)         │ C(High)        │ C(Low)      │ C(High)     │ C(Low)         │ C(High)        │ C(Low)      │ C(High)     │ C(Low)         │ C(High)        │ C(Low)      │ C(High)     │ C(Low)         │ C(High)        │\n",
      "├────────────┼─────────────┼─────────────┼────────────────┼────────────────┼─────────────┼─────────────┼────────────────┼────────────────┼─────────────┼─────────────┼────────────────┼────────────────┼─────────────┼─────────────┼────────────────┼────────────────┼─────────────┼─────────────┼────────────────┼────────────────┤\n",
      "│ S(SP_E)    │ 0.9         │ 0.9         │ 0.117          │ 0.75           │ 0.9         │ 0.9         │ 0.117          │ 0.75           │ 0.9         │ 0.9         │ 0.058          │ 0.75           │ 0.9         │ 0.9         │ 0.058          │ 0.75           │ 0.9         │ 0.9         │ 0.65           │ 0.75           │\n",
      "├────────────┼─────────────┼─────────────┼────────────────┼────────────────┼─────────────┼─────────────┼────────────────┼────────────────┼─────────────┼─────────────┼────────────────┼────────────────┼─────────────┼─────────────┼────────────────┼────────────────┼─────────────┼─────────────┼────────────────┼────────────────┤\n",
      "│ S(SP_DCBA) │ 0.025       │ 0.025       │ 0.65           │ 0.0625         │ 0.025       │ 0.025       │ 0.117          │ 0.0625         │ 0.025       │ 0.025       │ 0.117          │ 0.0625         │ 0.025       │ 0.025       │ 0.117          │ 0.0625         │ 0.025       │ 0.025       │ 0.117          │ 0.0625         │\n",
      "├────────────┼─────────────┼─────────────┼────────────────┼────────────────┼─────────────┼─────────────┼────────────────┼────────────────┼─────────────┼─────────────┼────────────────┼────────────────┼─────────────┼─────────────┼────────────────┼────────────────┼─────────────┼─────────────┼────────────────┼────────────────┤\n",
      "│ S(SP_CBAD) │ 0.025       │ 0.025       │ 0.117          │ 0.0625         │ 0.025       │ 0.025       │ 0.65           │ 0.0625         │ 0.025       │ 0.025       │ 0.117          │ 0.0625         │ 0.025       │ 0.025       │ 0.117          │ 0.0625         │ 0.025       │ 0.025       │ 0.117          │ 0.0625         │\n",
      "├────────────┼─────────────┼─────────────┼────────────────┼────────────────┼─────────────┼─────────────┼────────────────┼────────────────┼─────────────┼─────────────┼────────────────┼────────────────┼─────────────┼─────────────┼────────────────┼────────────────┼─────────────┼─────────────┼────────────────┼────────────────┤\n",
      "│ S(SP_BADC) │ 0.025       │ 0.025       │ 0.058          │ 0.0625         │ 0.025       │ 0.025       │ 0.058          │ 0.0625         │ 0.025       │ 0.025       │ 0.65           │ 0.0625         │ 0.025       │ 0.025       │ 0.058          │ 0.0625         │ 0.025       │ 0.025       │ 0.058          │ 0.0625         │\n",
      "├────────────┼─────────────┼─────────────┼────────────────┼────────────────┼─────────────┼─────────────┼────────────────┼────────────────┼─────────────┼─────────────┼────────────────┼────────────────┼─────────────┼─────────────┼────────────────┼────────────────┼─────────────┼─────────────┼────────────────┼────────────────┤\n",
      "│ S(SP_ADCB) │ 0.025       │ 0.025       │ 0.058          │ 0.0625         │ 0.025       │ 0.025       │ 0.058          │ 0.0625         │ 0.025       │ 0.025       │ 0.058          │ 0.0625         │ 0.025       │ 0.025       │ 0.65           │ 0.0625         │ 0.025       │ 0.025       │ 0.058          │ 0.0625         │\n",
      "╘════════════╧═════════════╧═════════════╧════════════════╧════════════════╧═════════════╧═════════════╧════════════════╧════════════════╧═════════════╧═════════════╧════════════════╧════════════════╧═════════════╧═════════════╧════════════════╧════════════════╧═════════════╧═════════════╧════════════════╧════════════════╛\n"
     ]
    }
   ],
   "source": [
    "print_cpds(model)"
   ]
  },
  {
   "cell_type": "code",
   "execution_count": 38,
   "metadata": {},
   "outputs": [
    {
     "data": {
      "text/plain": [
       "[<TabularCPD representing P(W:2) at 0x1c22292dcf8>,\n",
       " <TabularCPD representing P(P:4 | W:2) at 0x1c22292d898>,\n",
       " <TabularCPD representing P(N:2 | P:4) at 0x1c22292d048>,\n",
       " <TabularCPD representing P(B:2 | P:4) at 0x1c22292d0f0>,\n",
       " <TabularCPD representing P(C:2 | N:2, B:2) at 0x1c22292da20>,\n",
       " <TabularCPD representing P(R:2 | B:2) at 0x1c22292d9e8>,\n",
       " <TabularCPD representing P(SP:5) at 0x1c22292d278>,\n",
       " <TabularCPD representing P(S:5 | SP:5, R:2, C:2) at 0x1c22292db00>]"
      ]
     },
     "execution_count": 38,
     "metadata": {},
     "output_type": "execute_result"
    }
   ],
   "source": [
    "model.get_cpds()"
   ]
  },
  {
   "cell_type": "code",
   "execution_count": 39,
   "metadata": {},
   "outputs": [
    {
     "data": {
      "text/plain": [
       "5"
      ]
     },
     "execution_count": 39,
     "metadata": {},
     "output_type": "execute_result"
    }
   ],
   "source": [
    "model.get_cardinality('S')"
   ]
  },
  {
   "cell_type": "code",
   "execution_count": 40,
   "metadata": {},
   "outputs": [
    {
     "data": {
      "text/plain": [
       "(W _|_ SP)\n",
       "(P _|_ SP | W)\n",
       "(N _|_ B, W, SP, R | P)\n",
       "(B _|_ N, SP, W | P)\n",
       "(C _|_ P, W, SP, R | N, B)\n",
       "(R _|_ N, SP, W, C, P | B)\n",
       "(SP _|_ N, B, P, W, C, R)\n",
       "(S _|_ N, B, W, P | C, SP, R)"
      ]
     },
     "execution_count": 40,
     "metadata": {},
     "output_type": "execute_result"
    }
   ],
   "source": [
    "# Getting all the local independencies in the network.\n",
    "model.local_independencies(['W', 'P', 'N', 'B', 'C', 'R', 'SP', 'S'])"
   ]
  },
  {
   "cell_type": "code",
   "execution_count": 41,
   "metadata": {},
   "outputs": [
    {
     "name": "stdout",
     "output_type": "stream",
     "text": [
      "Active trail nodes for the output sequence:  {'S': {'S', 'B', 'N', 'C', 'R', 'P', 'SP', 'W'}}\n"
     ]
    }
   ],
   "source": [
    "print('Active trail nodes for the output sequence: ', model.active_trail_nodes('S'))"
   ]
  },
  {
   "cell_type": "markdown",
   "metadata": {},
   "source": [
    "### Inference"
   ]
  },
  {
   "cell_type": "markdown",
   "metadata": {},
   "source": [
    "#### Query for S given all the data"
   ]
  },
  {
   "cell_type": "code",
   "execution_count": 49,
   "metadata": {},
   "outputs": [],
   "source": [
    "from pgmpy.inference import VariableElimination\n",
    "def var_elimination_inference(model, query_vars, index, evidence={}):   \n",
    "    infer = VariableElimination(model)\n",
    "    s_dist = infer.query(query_vars, evidence=evidence)[index]\n",
    "    print('S_0: E, S_1: DCBA, S_2: CBAD, S_3: BADC, S_4: ADCB')\n",
    "    print(s_dist)"
   ]
  },
  {
   "cell_type": "code",
   "execution_count": 50,
   "metadata": {},
   "outputs": [
    {
     "name": "stdout",
     "output_type": "stream",
     "text": [
      "S_0: E, S_1: DCBA, S_2: CBAD, S_3: BADC, S_4: ADCB\n",
      "╒═════╤══════════╕\n",
      "│ S   │   phi(S) │\n",
      "╞═════╪══════════╡\n",
      "│ S_0 │   0.2876 │\n",
      "├─────┼──────────┤\n",
      "│ S_1 │   0.3661 │\n",
      "├─────┼──────────┤\n",
      "│ S_2 │   0.1506 │\n",
      "├─────┼──────────┤\n",
      "│ S_3 │   0.1111 │\n",
      "├─────┼──────────┤\n",
      "│ S_4 │   0.0846 │\n",
      "╘═════╧══════════╛\n"
     ]
    }
   ],
   "source": [
    "var_elimination_inference(model, ['S'], 'S')"
   ]
  },
  {
   "cell_type": "markdown",
   "metadata": {},
   "source": [
    "#### 1. $ P(S | C_0, R_1, SP_E) $ - probability of each sequence given low congestion, no roadworks, and  previous sequence E."
   ]
  },
  {
   "cell_type": "code",
   "execution_count": 51,
   "metadata": {},
   "outputs": [
    {
     "name": "stdout",
     "output_type": "stream",
     "text": [
      "S_0: E, S_1: DCBA, S_2: CBAD, S_3: BADC, S_4: ADCB\n",
      "╒═════╤══════════╕\n",
      "│ S   │   phi(S) │\n",
      "╞═════╪══════════╡\n",
      "│ S_0 │   0.1170 │\n",
      "├─────┼──────────┤\n",
      "│ S_1 │   0.6500 │\n",
      "├─────┼──────────┤\n",
      "│ S_2 │   0.1170 │\n",
      "├─────┼──────────┤\n",
      "│ S_3 │   0.0580 │\n",
      "├─────┼──────────┤\n",
      "│ S_4 │   0.0580 │\n",
      "╘═════╧══════════╛\n"
     ]
    }
   ],
   "source": [
    "var_elimination_inference(model, ['S'], 'S', evidence={'C': 0, 'R': 1, 'SP': 0})"
   ]
  },
  {
   "cell_type": "markdown",
   "metadata": {},
   "source": [
    "#### 2. $ P(S | C_1, R_1, SP_{DCBA}) $ - probability of each sequence given high congestion, no roadworks, and  previous sequence DCBA."
   ]
  },
  {
   "cell_type": "code",
   "execution_count": 52,
   "metadata": {},
   "outputs": [
    {
     "name": "stdout",
     "output_type": "stream",
     "text": [
      "S_0: E, S_1: DCBA, S_2: CBAD, S_3: BADC, S_4: ADCB\n",
      "╒═════╤══════════╕\n",
      "│ S   │   phi(S) │\n",
      "╞═════╪══════════╡\n",
      "│ S_0 │   0.7500 │\n",
      "├─────┼──────────┤\n",
      "│ S_1 │   0.0625 │\n",
      "├─────┼──────────┤\n",
      "│ S_2 │   0.0625 │\n",
      "├─────┼──────────┤\n",
      "│ S_3 │   0.0625 │\n",
      "├─────┼──────────┤\n",
      "│ S_4 │   0.0625 │\n",
      "╘═════╧══════════╛\n"
     ]
    }
   ],
   "source": [
    "var_elimination_inference(model, ['S'], 'S', evidence={'C': 1, 'R': 1, 'SP': 1})"
   ]
  },
  {
   "cell_type": "markdown",
   "metadata": {},
   "source": [
    "#### 3. $ P(S | C_0, R_0, SP_{BADC}) $ - probability of each sequence given low congestion, roadworks, and  previous sequence BADC."
   ]
  },
  {
   "cell_type": "code",
   "execution_count": 53,
   "metadata": {},
   "outputs": [
    {
     "name": "stdout",
     "output_type": "stream",
     "text": [
      "S_0: E, S_1: DCBA, S_2: CBAD, S_3: BADC, S_4: ADCB\n",
      "╒═════╤══════════╕\n",
      "│ S   │   phi(S) │\n",
      "╞═════╪══════════╡\n",
      "│ S_0 │   0.9000 │\n",
      "├─────┼──────────┤\n",
      "│ S_1 │   0.0250 │\n",
      "├─────┼──────────┤\n",
      "│ S_2 │   0.0250 │\n",
      "├─────┼──────────┤\n",
      "│ S_3 │   0.0250 │\n",
      "├─────┼──────────┤\n",
      "│ S_4 │   0.0250 │\n",
      "╘═════╧══════════╛\n"
     ]
    }
   ],
   "source": [
    "var_elimination_inference(model, ['S'], 'S', evidence={'C': 0, 'R': 0, 'SP': 3})"
   ]
  },
  {
   "cell_type": "markdown",
   "metadata": {},
   "source": [
    "#### 4. $ P(S | C_1, R_0, SP_{ADCB}) $ - probability of each sequence given high congestion, roadworks, and  previous sequence ADCB."
   ]
  },
  {
   "cell_type": "code",
   "execution_count": 54,
   "metadata": {},
   "outputs": [
    {
     "name": "stdout",
     "output_type": "stream",
     "text": [
      "S_0: E, S_1: DCBA, S_2: CBAD, S_3: BADC, S_4: ADCB\n",
      "╒═════╤══════════╕\n",
      "│ S   │   phi(S) │\n",
      "╞═════╪══════════╡\n",
      "│ S_0 │   0.9000 │\n",
      "├─────┼──────────┤\n",
      "│ S_1 │   0.0250 │\n",
      "├─────┼──────────┤\n",
      "│ S_2 │   0.0250 │\n",
      "├─────┼──────────┤\n",
      "│ S_3 │   0.0250 │\n",
      "├─────┼──────────┤\n",
      "│ S_4 │   0.0250 │\n",
      "╘═════╧══════════╛\n"
     ]
    }
   ],
   "source": [
    "var_elimination_inference(model, ['S'], 'S', evidence={'C': 1, 'R': 0, 'SP': 4})"
   ]
  },
  {
   "cell_type": "markdown",
   "metadata": {},
   "source": [
    "#### 5. $ P(S | C_0, R_1, SP_{BADC}) $ - probability of each sequence given low congestion, no roadworks, and previous sequence BADC."
   ]
  },
  {
   "cell_type": "code",
   "execution_count": 55,
   "metadata": {},
   "outputs": [
    {
     "name": "stdout",
     "output_type": "stream",
     "text": [
      "S_0: E, S_1: DCBA, S_2: CBAD, S_3: BADC, S_4: ADCB\n",
      "╒═════╤══════════╕\n",
      "│ S   │   phi(S) │\n",
      "╞═════╪══════════╡\n",
      "│ S_0 │   0.0580 │\n",
      "├─────┼──────────┤\n",
      "│ S_1 │   0.1170 │\n",
      "├─────┼──────────┤\n",
      "│ S_2 │   0.1170 │\n",
      "├─────┼──────────┤\n",
      "│ S_3 │   0.0580 │\n",
      "├─────┼──────────┤\n",
      "│ S_4 │   0.6500 │\n",
      "╘═════╧══════════╛\n"
     ]
    }
   ],
   "source": [
    "var_elimination_inference(model, ['S'], 'S', evidence={'C': 0, 'R': 1, 'SP': 3})"
   ]
  },
  {
   "cell_type": "markdown",
   "metadata": {},
   "source": [
    "### Making the predictions"
   ]
  },
  {
   "cell_type": "markdown",
   "metadata": {},
   "source": [
    "#### Output sequence given all the data"
   ]
  },
  {
   "cell_type": "code",
   "execution_count": 22,
   "metadata": {},
   "outputs": [],
   "source": [
    "seq_dict = {0: 'E', 1: 'DCBA', 2: 'CBAD', 3: 'BACD', 4: 'ACDB'}"
   ]
  },
  {
   "cell_type": "code",
   "execution_count": 59,
   "metadata": {},
   "outputs": [],
   "source": [
    "def var_elimination_predict(model, query_vars, evidence={}):\n",
    "    infer = VariableElimination(model)\n",
    "    predictions = infer.map_query(query_vars, evidence=evidence)\n",
    "    print({k: seq_dict.get(v, v) for k, v in predictions.items()})"
   ]
  },
  {
   "cell_type": "code",
   "execution_count": 60,
   "metadata": {},
   "outputs": [
    {
     "name": "stdout",
     "output_type": "stream",
     "text": [
      "{'S': 'DCBA'}\n"
     ]
    }
   ],
   "source": [
    "var_elimination_predict(model, ['S'])"
   ]
  },
  {
   "cell_type": "markdown",
   "metadata": {},
   "source": [
    "#### Output sequence given weekdays, a larger number of commutes and P1 (busy period):\n",
    "$ P(S | W_0, N_0, P_0) $"
   ]
  },
  {
   "cell_type": "code",
   "execution_count": 61,
   "metadata": {},
   "outputs": [
    {
     "name": "stdout",
     "output_type": "stream",
     "text": [
      "{'S': 'E'}\n"
     ]
    }
   ],
   "source": [
    "var_elimination_predict(model, ['S'], evidence={'W': 0, 'N': 0, 'P': 0})"
   ]
  },
  {
   "cell_type": "markdown",
   "metadata": {},
   "source": [
    "#### Output sequence given weekdays, P3 (busy period) and high congestion:\n",
    "$ P(S | W_0, P_2, C_1) $"
   ]
  },
  {
   "cell_type": "code",
   "execution_count": 63,
   "metadata": {},
   "outputs": [
    {
     "name": "stdout",
     "output_type": "stream",
     "text": [
      "{'S': 'E'}\n"
     ]
    }
   ],
   "source": [
    "var_elimination_predict(model, ['S'], evidence={'W': 0, 'C': 1, 'P': 2})"
   ]
  },
  {
   "cell_type": "markdown",
   "metadata": {},
   "source": [
    "#### Output sequence given weekdays, P3 (busy period) and low congestion:\n",
    "$ P(S | W_0, P_2, C_0) $"
   ]
  },
  {
   "cell_type": "code",
   "execution_count": 64,
   "metadata": {},
   "outputs": [
    {
     "name": "stdout",
     "output_type": "stream",
     "text": [
      "{'S': 'DCBA'}\n"
     ]
    }
   ],
   "source": [
    "var_elimination_predict(model, ['S'], evidence={'W': 0, 'C': 0, 'P': 2})"
   ]
  },
  {
   "cell_type": "markdown",
   "metadata": {},
   "source": [
    "#### Output sequence given weekdays, P3 (busy period), low congestion and previous sequence DCBA:"
   ]
  },
  {
   "cell_type": "markdown",
   "metadata": {},
   "source": [
    "$ P(S | W_0, C_0, P_2, SP_{DCBA}) $"
   ]
  },
  {
   "cell_type": "code",
   "execution_count": 65,
   "metadata": {},
   "outputs": [
    {
     "name": "stdout",
     "output_type": "stream",
     "text": [
      "{'S': 'CBAD'}\n"
     ]
    }
   ],
   "source": [
    "var_elimination_predict(model, ['S'], evidence={'W': 0, 'C': 0, 'P': 2, 'SP': 1})"
   ]
  },
  {
   "cell_type": "markdown",
   "metadata": {},
   "source": [
    "#### Output sequence given weekends, P2 (non-busy period), low congestion, no roadworks:"
   ]
  },
  {
   "cell_type": "markdown",
   "metadata": {},
   "source": [
    "$ P(S | W_1, C_0, R_1, SP_{DCBA}) $"
   ]
  },
  {
   "cell_type": "code",
   "execution_count": 66,
   "metadata": {},
   "outputs": [
    {
     "name": "stdout",
     "output_type": "stream",
     "text": [
      "{'S': 'DCBA'}\n"
     ]
    }
   ],
   "source": [
    "var_elimination_predict(model, ['S'], evidence={'W': 1, 'C': 0, 'P': 1, 'R': 1})"
   ]
  },
  {
   "cell_type": "markdown",
   "metadata": {},
   "source": [
    "### Likelihood sampling"
   ]
  },
  {
   "cell_type": "code",
   "execution_count": 67,
   "metadata": {},
   "outputs": [],
   "source": [
    "from pgmpy.sampling import BayesianModelSampling\n",
    "from pgmpy.factors.discrete import State"
   ]
  },
  {
   "cell_type": "code",
   "execution_count": 72,
   "metadata": {},
   "outputs": [
    {
     "data": {
      "text/html": [
       "<div>\n",
       "<style scoped>\n",
       "    .dataframe tbody tr th:only-of-type {\n",
       "        vertical-align: middle;\n",
       "    }\n",
       "\n",
       "    .dataframe tbody tr th {\n",
       "        vertical-align: top;\n",
       "    }\n",
       "\n",
       "    .dataframe thead th {\n",
       "        text-align: right;\n",
       "    }\n",
       "</style>\n",
       "<table border=\"1\" class=\"dataframe\">\n",
       "  <thead>\n",
       "    <tr style=\"text-align: right;\">\n",
       "      <th></th>\n",
       "      <th>SP</th>\n",
       "      <th>W</th>\n",
       "      <th>P</th>\n",
       "      <th>B</th>\n",
       "      <th>R</th>\n",
       "      <th>N</th>\n",
       "      <th>C</th>\n",
       "      <th>S</th>\n",
       "      <th>_weight</th>\n",
       "    </tr>\n",
       "  </thead>\n",
       "  <tbody>\n",
       "    <tr>\n",
       "      <th>0</th>\n",
       "      <td>1</td>\n",
       "      <td>1</td>\n",
       "      <td>3</td>\n",
       "      <td>1</td>\n",
       "      <td>1</td>\n",
       "      <td>1</td>\n",
       "      <td>1</td>\n",
       "      <td>0</td>\n",
       "      <td>0.04925</td>\n",
       "    </tr>\n",
       "    <tr>\n",
       "      <th>1</th>\n",
       "      <td>0</td>\n",
       "      <td>1</td>\n",
       "      <td>3</td>\n",
       "      <td>1</td>\n",
       "      <td>1</td>\n",
       "      <td>0</td>\n",
       "      <td>1</td>\n",
       "      <td>0</td>\n",
       "      <td>0.39400</td>\n",
       "    </tr>\n",
       "    <tr>\n",
       "      <th>2</th>\n",
       "      <td>0</td>\n",
       "      <td>1</td>\n",
       "      <td>1</td>\n",
       "      <td>1</td>\n",
       "      <td>1</td>\n",
       "      <td>1</td>\n",
       "      <td>1</td>\n",
       "      <td>0</td>\n",
       "      <td>0.04925</td>\n",
       "    </tr>\n",
       "    <tr>\n",
       "      <th>3</th>\n",
       "      <td>0</td>\n",
       "      <td>0</td>\n",
       "      <td>3</td>\n",
       "      <td>1</td>\n",
       "      <td>1</td>\n",
       "      <td>1</td>\n",
       "      <td>1</td>\n",
       "      <td>0</td>\n",
       "      <td>0.04925</td>\n",
       "    </tr>\n",
       "    <tr>\n",
       "      <th>4</th>\n",
       "      <td>1</td>\n",
       "      <td>0</td>\n",
       "      <td>3</td>\n",
       "      <td>1</td>\n",
       "      <td>1</td>\n",
       "      <td>1</td>\n",
       "      <td>1</td>\n",
       "      <td>0</td>\n",
       "      <td>0.04925</td>\n",
       "    </tr>\n",
       "    <tr>\n",
       "      <th>5</th>\n",
       "      <td>0</td>\n",
       "      <td>0</td>\n",
       "      <td>1</td>\n",
       "      <td>1</td>\n",
       "      <td>1</td>\n",
       "      <td>1</td>\n",
       "      <td>1</td>\n",
       "      <td>0</td>\n",
       "      <td>0.04925</td>\n",
       "    </tr>\n",
       "    <tr>\n",
       "      <th>6</th>\n",
       "      <td>0</td>\n",
       "      <td>0</td>\n",
       "      <td>3</td>\n",
       "      <td>1</td>\n",
       "      <td>1</td>\n",
       "      <td>1</td>\n",
       "      <td>1</td>\n",
       "      <td>0</td>\n",
       "      <td>0.04925</td>\n",
       "    </tr>\n",
       "    <tr>\n",
       "      <th>7</th>\n",
       "      <td>0</td>\n",
       "      <td>0</td>\n",
       "      <td>3</td>\n",
       "      <td>1</td>\n",
       "      <td>1</td>\n",
       "      <td>1</td>\n",
       "      <td>1</td>\n",
       "      <td>4</td>\n",
       "      <td>0.04925</td>\n",
       "    </tr>\n",
       "    <tr>\n",
       "      <th>8</th>\n",
       "      <td>0</td>\n",
       "      <td>0</td>\n",
       "      <td>3</td>\n",
       "      <td>1</td>\n",
       "      <td>1</td>\n",
       "      <td>1</td>\n",
       "      <td>1</td>\n",
       "      <td>0</td>\n",
       "      <td>0.04925</td>\n",
       "    </tr>\n",
       "    <tr>\n",
       "      <th>9</th>\n",
       "      <td>2</td>\n",
       "      <td>0</td>\n",
       "      <td>3</td>\n",
       "      <td>1</td>\n",
       "      <td>1</td>\n",
       "      <td>1</td>\n",
       "      <td>1</td>\n",
       "      <td>4</td>\n",
       "      <td>0.04925</td>\n",
       "    </tr>\n",
       "    <tr>\n",
       "      <th>10</th>\n",
       "      <td>0</td>\n",
       "      <td>0</td>\n",
       "      <td>1</td>\n",
       "      <td>1</td>\n",
       "      <td>1</td>\n",
       "      <td>1</td>\n",
       "      <td>1</td>\n",
       "      <td>1</td>\n",
       "      <td>0.04925</td>\n",
       "    </tr>\n",
       "    <tr>\n",
       "      <th>11</th>\n",
       "      <td>0</td>\n",
       "      <td>1</td>\n",
       "      <td>3</td>\n",
       "      <td>1</td>\n",
       "      <td>1</td>\n",
       "      <td>1</td>\n",
       "      <td>1</td>\n",
       "      <td>0</td>\n",
       "      <td>0.04925</td>\n",
       "    </tr>\n",
       "    <tr>\n",
       "      <th>12</th>\n",
       "      <td>0</td>\n",
       "      <td>1</td>\n",
       "      <td>3</td>\n",
       "      <td>1</td>\n",
       "      <td>1</td>\n",
       "      <td>1</td>\n",
       "      <td>1</td>\n",
       "      <td>2</td>\n",
       "      <td>0.04925</td>\n",
       "    </tr>\n",
       "    <tr>\n",
       "      <th>13</th>\n",
       "      <td>1</td>\n",
       "      <td>0</td>\n",
       "      <td>1</td>\n",
       "      <td>1</td>\n",
       "      <td>1</td>\n",
       "      <td>1</td>\n",
       "      <td>1</td>\n",
       "      <td>0</td>\n",
       "      <td>0.04925</td>\n",
       "    </tr>\n",
       "    <tr>\n",
       "      <th>14</th>\n",
       "      <td>0</td>\n",
       "      <td>0</td>\n",
       "      <td>1</td>\n",
       "      <td>1</td>\n",
       "      <td>1</td>\n",
       "      <td>1</td>\n",
       "      <td>1</td>\n",
       "      <td>0</td>\n",
       "      <td>0.04925</td>\n",
       "    </tr>\n",
       "    <tr>\n",
       "      <th>15</th>\n",
       "      <td>2</td>\n",
       "      <td>1</td>\n",
       "      <td>1</td>\n",
       "      <td>1</td>\n",
       "      <td>1</td>\n",
       "      <td>1</td>\n",
       "      <td>1</td>\n",
       "      <td>3</td>\n",
       "      <td>0.04925</td>\n",
       "    </tr>\n",
       "    <tr>\n",
       "      <th>16</th>\n",
       "      <td>0</td>\n",
       "      <td>0</td>\n",
       "      <td>1</td>\n",
       "      <td>1</td>\n",
       "      <td>1</td>\n",
       "      <td>1</td>\n",
       "      <td>1</td>\n",
       "      <td>0</td>\n",
       "      <td>0.04925</td>\n",
       "    </tr>\n",
       "    <tr>\n",
       "      <th>17</th>\n",
       "      <td>0</td>\n",
       "      <td>0</td>\n",
       "      <td>1</td>\n",
       "      <td>1</td>\n",
       "      <td>1</td>\n",
       "      <td>1</td>\n",
       "      <td>1</td>\n",
       "      <td>0</td>\n",
       "      <td>0.04925</td>\n",
       "    </tr>\n",
       "    <tr>\n",
       "      <th>18</th>\n",
       "      <td>0</td>\n",
       "      <td>0</td>\n",
       "      <td>3</td>\n",
       "      <td>1</td>\n",
       "      <td>1</td>\n",
       "      <td>1</td>\n",
       "      <td>1</td>\n",
       "      <td>0</td>\n",
       "      <td>0.04925</td>\n",
       "    </tr>\n",
       "    <tr>\n",
       "      <th>19</th>\n",
       "      <td>2</td>\n",
       "      <td>1</td>\n",
       "      <td>1</td>\n",
       "      <td>1</td>\n",
       "      <td>1</td>\n",
       "      <td>1</td>\n",
       "      <td>1</td>\n",
       "      <td>0</td>\n",
       "      <td>0.04925</td>\n",
       "    </tr>\n",
       "    <tr>\n",
       "      <th>20</th>\n",
       "      <td>0</td>\n",
       "      <td>0</td>\n",
       "      <td>3</td>\n",
       "      <td>1</td>\n",
       "      <td>1</td>\n",
       "      <td>1</td>\n",
       "      <td>1</td>\n",
       "      <td>0</td>\n",
       "      <td>0.04925</td>\n",
       "    </tr>\n",
       "    <tr>\n",
       "      <th>21</th>\n",
       "      <td>0</td>\n",
       "      <td>0</td>\n",
       "      <td>2</td>\n",
       "      <td>0</td>\n",
       "      <td>1</td>\n",
       "      <td>0</td>\n",
       "      <td>1</td>\n",
       "      <td>0</td>\n",
       "      <td>0.94525</td>\n",
       "    </tr>\n",
       "    <tr>\n",
       "      <th>22</th>\n",
       "      <td>0</td>\n",
       "      <td>0</td>\n",
       "      <td>3</td>\n",
       "      <td>1</td>\n",
       "      <td>1</td>\n",
       "      <td>1</td>\n",
       "      <td>1</td>\n",
       "      <td>2</td>\n",
       "      <td>0.04925</td>\n",
       "    </tr>\n",
       "    <tr>\n",
       "      <th>23</th>\n",
       "      <td>2</td>\n",
       "      <td>0</td>\n",
       "      <td>3</td>\n",
       "      <td>1</td>\n",
       "      <td>1</td>\n",
       "      <td>1</td>\n",
       "      <td>1</td>\n",
       "      <td>2</td>\n",
       "      <td>0.04925</td>\n",
       "    </tr>\n",
       "    <tr>\n",
       "      <th>24</th>\n",
       "      <td>0</td>\n",
       "      <td>1</td>\n",
       "      <td>1</td>\n",
       "      <td>1</td>\n",
       "      <td>1</td>\n",
       "      <td>1</td>\n",
       "      <td>1</td>\n",
       "      <td>0</td>\n",
       "      <td>0.04925</td>\n",
       "    </tr>\n",
       "    <tr>\n",
       "      <th>25</th>\n",
       "      <td>0</td>\n",
       "      <td>0</td>\n",
       "      <td>1</td>\n",
       "      <td>1</td>\n",
       "      <td>1</td>\n",
       "      <td>1</td>\n",
       "      <td>1</td>\n",
       "      <td>1</td>\n",
       "      <td>0.04925</td>\n",
       "    </tr>\n",
       "    <tr>\n",
       "      <th>26</th>\n",
       "      <td>1</td>\n",
       "      <td>1</td>\n",
       "      <td>1</td>\n",
       "      <td>1</td>\n",
       "      <td>1</td>\n",
       "      <td>1</td>\n",
       "      <td>1</td>\n",
       "      <td>0</td>\n",
       "      <td>0.04925</td>\n",
       "    </tr>\n",
       "    <tr>\n",
       "      <th>27</th>\n",
       "      <td>0</td>\n",
       "      <td>1</td>\n",
       "      <td>1</td>\n",
       "      <td>1</td>\n",
       "      <td>1</td>\n",
       "      <td>1</td>\n",
       "      <td>1</td>\n",
       "      <td>0</td>\n",
       "      <td>0.04925</td>\n",
       "    </tr>\n",
       "    <tr>\n",
       "      <th>28</th>\n",
       "      <td>0</td>\n",
       "      <td>0</td>\n",
       "      <td>3</td>\n",
       "      <td>1</td>\n",
       "      <td>1</td>\n",
       "      <td>1</td>\n",
       "      <td>1</td>\n",
       "      <td>2</td>\n",
       "      <td>0.04925</td>\n",
       "    </tr>\n",
       "    <tr>\n",
       "      <th>29</th>\n",
       "      <td>0</td>\n",
       "      <td>0</td>\n",
       "      <td>3</td>\n",
       "      <td>1</td>\n",
       "      <td>1</td>\n",
       "      <td>1</td>\n",
       "      <td>1</td>\n",
       "      <td>4</td>\n",
       "      <td>0.04925</td>\n",
       "    </tr>\n",
       "    <tr>\n",
       "      <th>30</th>\n",
       "      <td>1</td>\n",
       "      <td>1</td>\n",
       "      <td>1</td>\n",
       "      <td>1</td>\n",
       "      <td>1</td>\n",
       "      <td>1</td>\n",
       "      <td>1</td>\n",
       "      <td>3</td>\n",
       "      <td>0.04925</td>\n",
       "    </tr>\n",
       "    <tr>\n",
       "      <th>31</th>\n",
       "      <td>0</td>\n",
       "      <td>1</td>\n",
       "      <td>1</td>\n",
       "      <td>1</td>\n",
       "      <td>1</td>\n",
       "      <td>1</td>\n",
       "      <td>1</td>\n",
       "      <td>0</td>\n",
       "      <td>0.04925</td>\n",
       "    </tr>\n",
       "    <tr>\n",
       "      <th>32</th>\n",
       "      <td>1</td>\n",
       "      <td>0</td>\n",
       "      <td>3</td>\n",
       "      <td>1</td>\n",
       "      <td>1</td>\n",
       "      <td>1</td>\n",
       "      <td>1</td>\n",
       "      <td>0</td>\n",
       "      <td>0.04925</td>\n",
       "    </tr>\n",
       "    <tr>\n",
       "      <th>33</th>\n",
       "      <td>1</td>\n",
       "      <td>0</td>\n",
       "      <td>2</td>\n",
       "      <td>0</td>\n",
       "      <td>1</td>\n",
       "      <td>0</td>\n",
       "      <td>1</td>\n",
       "      <td>0</td>\n",
       "      <td>0.94525</td>\n",
       "    </tr>\n",
       "    <tr>\n",
       "      <th>34</th>\n",
       "      <td>2</td>\n",
       "      <td>0</td>\n",
       "      <td>3</td>\n",
       "      <td>1</td>\n",
       "      <td>1</td>\n",
       "      <td>0</td>\n",
       "      <td>1</td>\n",
       "      <td>1</td>\n",
       "      <td>0.39400</td>\n",
       "    </tr>\n",
       "    <tr>\n",
       "      <th>35</th>\n",
       "      <td>0</td>\n",
       "      <td>0</td>\n",
       "      <td>3</td>\n",
       "      <td>1</td>\n",
       "      <td>1</td>\n",
       "      <td>1</td>\n",
       "      <td>1</td>\n",
       "      <td>0</td>\n",
       "      <td>0.04925</td>\n",
       "    </tr>\n",
       "    <tr>\n",
       "      <th>36</th>\n",
       "      <td>0</td>\n",
       "      <td>0</td>\n",
       "      <td>2</td>\n",
       "      <td>0</td>\n",
       "      <td>1</td>\n",
       "      <td>0</td>\n",
       "      <td>1</td>\n",
       "      <td>0</td>\n",
       "      <td>0.94525</td>\n",
       "    </tr>\n",
       "    <tr>\n",
       "      <th>37</th>\n",
       "      <td>0</td>\n",
       "      <td>1</td>\n",
       "      <td>3</td>\n",
       "      <td>1</td>\n",
       "      <td>1</td>\n",
       "      <td>0</td>\n",
       "      <td>1</td>\n",
       "      <td>1</td>\n",
       "      <td>0.39400</td>\n",
       "    </tr>\n",
       "    <tr>\n",
       "      <th>38</th>\n",
       "      <td>2</td>\n",
       "      <td>0</td>\n",
       "      <td>1</td>\n",
       "      <td>1</td>\n",
       "      <td>1</td>\n",
       "      <td>0</td>\n",
       "      <td>1</td>\n",
       "      <td>0</td>\n",
       "      <td>0.39400</td>\n",
       "    </tr>\n",
       "    <tr>\n",
       "      <th>39</th>\n",
       "      <td>0</td>\n",
       "      <td>0</td>\n",
       "      <td>3</td>\n",
       "      <td>1</td>\n",
       "      <td>1</td>\n",
       "      <td>1</td>\n",
       "      <td>1</td>\n",
       "      <td>3</td>\n",
       "      <td>0.04925</td>\n",
       "    </tr>\n",
       "    <tr>\n",
       "      <th>40</th>\n",
       "      <td>3</td>\n",
       "      <td>0</td>\n",
       "      <td>3</td>\n",
       "      <td>1</td>\n",
       "      <td>1</td>\n",
       "      <td>1</td>\n",
       "      <td>1</td>\n",
       "      <td>0</td>\n",
       "      <td>0.04925</td>\n",
       "    </tr>\n",
       "    <tr>\n",
       "      <th>41</th>\n",
       "      <td>4</td>\n",
       "      <td>0</td>\n",
       "      <td>3</td>\n",
       "      <td>1</td>\n",
       "      <td>1</td>\n",
       "      <td>1</td>\n",
       "      <td>1</td>\n",
       "      <td>0</td>\n",
       "      <td>0.04925</td>\n",
       "    </tr>\n",
       "    <tr>\n",
       "      <th>42</th>\n",
       "      <td>0</td>\n",
       "      <td>0</td>\n",
       "      <td>1</td>\n",
       "      <td>1</td>\n",
       "      <td>1</td>\n",
       "      <td>1</td>\n",
       "      <td>1</td>\n",
       "      <td>0</td>\n",
       "      <td>0.04925</td>\n",
       "    </tr>\n",
       "    <tr>\n",
       "      <th>43</th>\n",
       "      <td>3</td>\n",
       "      <td>1</td>\n",
       "      <td>1</td>\n",
       "      <td>1</td>\n",
       "      <td>1</td>\n",
       "      <td>1</td>\n",
       "      <td>1</td>\n",
       "      <td>0</td>\n",
       "      <td>0.04925</td>\n",
       "    </tr>\n",
       "    <tr>\n",
       "      <th>44</th>\n",
       "      <td>0</td>\n",
       "      <td>1</td>\n",
       "      <td>3</td>\n",
       "      <td>1</td>\n",
       "      <td>1</td>\n",
       "      <td>1</td>\n",
       "      <td>1</td>\n",
       "      <td>0</td>\n",
       "      <td>0.04925</td>\n",
       "    </tr>\n",
       "    <tr>\n",
       "      <th>45</th>\n",
       "      <td>0</td>\n",
       "      <td>1</td>\n",
       "      <td>3</td>\n",
       "      <td>1</td>\n",
       "      <td>1</td>\n",
       "      <td>1</td>\n",
       "      <td>1</td>\n",
       "      <td>0</td>\n",
       "      <td>0.04925</td>\n",
       "    </tr>\n",
       "    <tr>\n",
       "      <th>46</th>\n",
       "      <td>0</td>\n",
       "      <td>0</td>\n",
       "      <td>3</td>\n",
       "      <td>1</td>\n",
       "      <td>1</td>\n",
       "      <td>1</td>\n",
       "      <td>1</td>\n",
       "      <td>0</td>\n",
       "      <td>0.04925</td>\n",
       "    </tr>\n",
       "    <tr>\n",
       "      <th>47</th>\n",
       "      <td>3</td>\n",
       "      <td>0</td>\n",
       "      <td>1</td>\n",
       "      <td>1</td>\n",
       "      <td>1</td>\n",
       "      <td>1</td>\n",
       "      <td>1</td>\n",
       "      <td>3</td>\n",
       "      <td>0.04925</td>\n",
       "    </tr>\n",
       "    <tr>\n",
       "      <th>48</th>\n",
       "      <td>0</td>\n",
       "      <td>0</td>\n",
       "      <td>0</td>\n",
       "      <td>0</td>\n",
       "      <td>1</td>\n",
       "      <td>0</td>\n",
       "      <td>1</td>\n",
       "      <td>0</td>\n",
       "      <td>0.94525</td>\n",
       "    </tr>\n",
       "    <tr>\n",
       "      <th>49</th>\n",
       "      <td>0</td>\n",
       "      <td>0</td>\n",
       "      <td>3</td>\n",
       "      <td>1</td>\n",
       "      <td>1</td>\n",
       "      <td>1</td>\n",
       "      <td>1</td>\n",
       "      <td>1</td>\n",
       "      <td>0.04925</td>\n",
       "    </tr>\n",
       "  </tbody>\n",
       "</table>\n",
       "</div>"
      ],
      "text/plain": [
       "    SP  W  P  B  R  N  C  S  _weight\n",
       "0    1  1  3  1  1  1  1  0  0.04925\n",
       "1    0  1  3  1  1  0  1  0  0.39400\n",
       "2    0  1  1  1  1  1  1  0  0.04925\n",
       "3    0  0  3  1  1  1  1  0  0.04925\n",
       "4    1  0  3  1  1  1  1  0  0.04925\n",
       "5    0  0  1  1  1  1  1  0  0.04925\n",
       "6    0  0  3  1  1  1  1  0  0.04925\n",
       "7    0  0  3  1  1  1  1  4  0.04925\n",
       "8    0  0  3  1  1  1  1  0  0.04925\n",
       "9    2  0  3  1  1  1  1  4  0.04925\n",
       "10   0  0  1  1  1  1  1  1  0.04925\n",
       "11   0  1  3  1  1  1  1  0  0.04925\n",
       "12   0  1  3  1  1  1  1  2  0.04925\n",
       "13   1  0  1  1  1  1  1  0  0.04925\n",
       "14   0  0  1  1  1  1  1  0  0.04925\n",
       "15   2  1  1  1  1  1  1  3  0.04925\n",
       "16   0  0  1  1  1  1  1  0  0.04925\n",
       "17   0  0  1  1  1  1  1  0  0.04925\n",
       "18   0  0  3  1  1  1  1  0  0.04925\n",
       "19   2  1  1  1  1  1  1  0  0.04925\n",
       "20   0  0  3  1  1  1  1  0  0.04925\n",
       "21   0  0  2  0  1  0  1  0  0.94525\n",
       "22   0  0  3  1  1  1  1  2  0.04925\n",
       "23   2  0  3  1  1  1  1  2  0.04925\n",
       "24   0  1  1  1  1  1  1  0  0.04925\n",
       "25   0  0  1  1  1  1  1  1  0.04925\n",
       "26   1  1  1  1  1  1  1  0  0.04925\n",
       "27   0  1  1  1  1  1  1  0  0.04925\n",
       "28   0  0  3  1  1  1  1  2  0.04925\n",
       "29   0  0  3  1  1  1  1  4  0.04925\n",
       "30   1  1  1  1  1  1  1  3  0.04925\n",
       "31   0  1  1  1  1  1  1  0  0.04925\n",
       "32   1  0  3  1  1  1  1  0  0.04925\n",
       "33   1  0  2  0  1  0  1  0  0.94525\n",
       "34   2  0  3  1  1  0  1  1  0.39400\n",
       "35   0  0  3  1  1  1  1  0  0.04925\n",
       "36   0  0  2  0  1  0  1  0  0.94525\n",
       "37   0  1  3  1  1  0  1  1  0.39400\n",
       "38   2  0  1  1  1  0  1  0  0.39400\n",
       "39   0  0  3  1  1  1  1  3  0.04925\n",
       "40   3  0  3  1  1  1  1  0  0.04925\n",
       "41   4  0  3  1  1  1  1  0  0.04925\n",
       "42   0  0  1  1  1  1  1  0  0.04925\n",
       "43   3  1  1  1  1  1  1  0  0.04925\n",
       "44   0  1  3  1  1  1  1  0  0.04925\n",
       "45   0  1  3  1  1  1  1  0  0.04925\n",
       "46   0  0  3  1  1  1  1  0  0.04925\n",
       "47   3  0  1  1  1  1  1  3  0.04925\n",
       "48   0  0  0  0  1  0  1  0  0.94525\n",
       "49   0  0  3  1  1  1  1  1  0.04925"
      ]
     },
     "execution_count": 72,
     "metadata": {},
     "output_type": "execute_result"
    }
   ],
   "source": [
    "inference = BayesianModelSampling(model)\n",
    "evidence = [State('C', 1), State('R', 1)]\n",
    "inference.likelihood_weighted_sample(evidence=evidence, size=50, return_type='dataframe')"
   ]
  }
 ],
 "metadata": {
  "kernelspec": {
   "display_name": "Python 3",
   "language": "python",
   "name": "python3"
  },
  "language_info": {
   "codemirror_mode": {
    "name": "ipython",
    "version": 3
   },
   "file_extension": ".py",
   "mimetype": "text/x-python",
   "name": "python",
   "nbconvert_exporter": "python",
   "pygments_lexer": "ipython3",
   "version": "3.6.7"
  },
  "latex_envs": {
   "LaTeX_envs_menu_present": true,
   "autoclose": false,
   "autocomplete": true,
   "bibliofile": "biblio.bib",
   "cite_by": "apalike",
   "current_citInitial": 1,
   "eqLabelWithNumbers": true,
   "eqNumInitial": 1,
   "hotkeys": {
    "equation": "Ctrl-E",
    "itemize": "Ctrl-I"
   },
   "labels_anchors": false,
   "latex_user_defs": false,
   "report_style_numbering": false,
   "user_envs_cfg": false
  },
  "varInspector": {
   "cols": {
    "lenName": 16,
    "lenType": 16,
    "lenVar": 40
   },
   "kernels_config": {
    "python": {
     "delete_cmd_postfix": "",
     "delete_cmd_prefix": "del ",
     "library": "var_list.py",
     "varRefreshCmd": "print(var_dic_list())"
    },
    "r": {
     "delete_cmd_postfix": ") ",
     "delete_cmd_prefix": "rm(",
     "library": "var_list.r",
     "varRefreshCmd": "cat(var_dic_list()) "
    }
   },
   "types_to_exclude": [
    "module",
    "function",
    "builtin_function_or_method",
    "instance",
    "_Feature"
   ],
   "window_display": false
  }
 },
 "nbformat": 4,
 "nbformat_minor": 2
}
